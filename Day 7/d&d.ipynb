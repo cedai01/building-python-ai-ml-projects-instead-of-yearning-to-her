{
 "cells": [
  {
   "cell_type": "code",
   "execution_count": 1,
   "id": "a11e3476",
   "metadata": {},
   "outputs": [],
   "source": [
    "import pandas as pd\n",
    "\n",
    "# D&D characters data\n",
    "characters_data = {\n",
    "  'name': ['Thorne', 'Elira', 'Glim', 'Brug', 'Nyx', 'Kael', 'Mira', 'Drogan', 'Zara', 'Fenwick'],\n",
    "  'race': ['Elf', 'Human', 'Gnome', 'Half-Orc', 'Tiefling', 'Dragonborn', 'Halfling', 'Dwarf', 'Aasimar', 'Goblin'],\n",
    "  'class': ['Ranger', 'Cleric', 'Wizard', 'Barbarian', 'Rogue', 'Paladin', 'Bard', 'Fighter', 'Sorcerer', 'Warlock'],\n",
    "  'level': [5, 3, 4, 2, 6, 7, 3, 5, 4, 2],\n",
    "  'hp': [42, 28, 33, 25, 48, 56, 30, 44, 36, 24],\n",
    "  'alignment': [\n",
    "    'Chaotic Good', 'Lawful Good', 'Neutral', 'Chaotic Neutral', 'Chaotic Evil',\n",
    "    'Lawful Neutral', 'Neutral Good', 'Neutral', 'Chaotic Good', 'Lawful Evil'\n",
    "  ]\n",
    "}\n",
    "\n",
    "# Create the DataFrame\n",
    "characters = pd.DataFrame(characters_data)"
   ]
  },
  {
   "cell_type": "code",
   "execution_count": 5,
   "id": "5c466d35",
   "metadata": {},
   "outputs": [
    {
     "name": "stdout",
     "output_type": "stream",
     "text": [
      "first output:     name        race    class  level  hp       alignment\n",
      "4   Nyx    Tiefling    Rogue      6  48    Chaotic Evil\n",
      "5  Kael  Dragonborn  Paladin      7  56  Lawful Neutral\n",
      "second output:    name      race class  level  hp     alignment\n",
      "6  Mira  Halfling  Bard      3  30  Neutral Good\n",
      "third output:       name     race     class  level  hp     alignment\n",
      "2     Glim    Gnome    Wizard      4  33       Neutral\n",
      "8     Zara  Aasimar  Sorcerer      4  36  Chaotic Good\n",
      "9  Fenwick   Goblin   Warlock      2  24   Lawful Evil\n"
     ]
    }
   ],
   "source": [
    "high_level = characters[characters[\"level\"] > 5 ]\n",
    "halfing_bards = characters[\n",
    "    (characters[\"race\"] == \"Halfling\") &\n",
    "    (characters[\"class\"] == \"Bard\")]\n",
    "magic_users = characters[\n",
    "    (characters[\"class\"] == \"Wizard\") |\n",
    "    (characters[\"class\"] == \"Sorcerer\") |\n",
    "    (characters[\"class\"] == \"Warlock\" ) ]\n",
    "\n",
    "print(f\"first output:  {high_level}\")\n",
    "print(f\"second output: {halfing_bards}\")\n",
    "print(f\"third output: {magic_users}\")"
   ]
  },
  {
   "cell_type": "code",
   "execution_count": null,
   "id": "e747a543",
   "metadata": {},
   "outputs": [],
   "source": []
  }
 ],
 "metadata": {
  "kernelspec": {
   "display_name": "Python 3",
   "language": "python",
   "name": "python3"
  },
  "language_info": {
   "codemirror_mode": {
    "name": "ipython",
    "version": 3
   },
   "file_extension": ".py",
   "mimetype": "text/x-python",
   "name": "python",
   "nbconvert_exporter": "python",
   "pygments_lexer": "ipython3",
   "version": "3.13.5"
  }
 },
 "nbformat": 4,
 "nbformat_minor": 5
}
