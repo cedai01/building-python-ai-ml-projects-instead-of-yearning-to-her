{
 "cells": [
  {
   "cell_type": "code",
   "execution_count": 2,
   "id": "b055ee55",
   "metadata": {},
   "outputs": [
    {
     "name": "stdout",
     "output_type": "stream",
     "text": [
      "My average is sleep in last mont is 6.81 and my average coffee in last month is 0.67\n"
     ]
    }
   ],
   "source": [
    "import numpy as np\n",
    "\n",
    "\n",
    "sleep_hours = np.array([[6, 4.5, 6, 6, 5, 4, 9],\n",
    "                        [7, 4, 6, 8, 8, 7, 9],\n",
    "                        [5.6, 6, 7, 8, 9, 10, 8]])\n",
    "\n",
    "\n",
    "coffee = np.array([[1, 2, 1, 0, 0, 1, 1],\n",
    "                   [1, 1, 0, 0, 1, 0, 1],\n",
    "                   [0, 1, 0, 0, 1, 2, 0]])\n",
    "\n",
    "\n",
    "average_sleep = np.average(sleep_hours)\n",
    "average_coffee = np.average(coffee)\n",
    "\n",
    "print(f\"My average is sleep in last mont is {str(round(average_sleep, 2))} and my average coffee in last month is {str(round(average_coffee, 2))}\")"
   ]
  },
  {
   "cell_type": "code",
   "execution_count": 3,
   "id": "fb675af8",
   "metadata": {},
   "outputs": [
    {
     "name": "stdout",
     "output_type": "stream",
     "text": [
      "[828.142 678.79  631.85  601.066 599.237 554.431 541.325]\n"
     ]
    }
   ],
   "source": [
    "tallest_buildings = np.array([2717, 2227, 2073, 1972, 1966, 1819, 1776])\n",
    "m = tallest_buildings * 0.3048\n",
    "print(np.round(m, 3))"
   ]
  },
  {
   "cell_type": "code",
   "execution_count": 4,
   "id": "c6ff2837",
   "metadata": {},
   "outputs": [
    {
     "name": "stdout",
     "output_type": "stream",
     "text": [
      "[]\n"
     ]
    }
   ],
   "source": [
    "halleys_comet = np.arange(1968, 75, 3000)\n",
    "print(halleys_comet)"
   ]
  },
  {
   "cell_type": "code",
   "execution_count": 6,
   "id": "3a6ba634",
   "metadata": {},
   "outputs": [
    {
     "name": "stdout",
     "output_type": "stream",
     "text": [
      "[1986 2061 2136 2211 2286 2361 2436 2511 2586 2661 2736 2811 2886 2961]\n"
     ]
    }
   ],
   "source": [
    "halleys_comet = np.arange(start=1986, stop=3000, step=75)\n",
    "print(halleys_comet)"
   ]
  },
  {
   "cell_type": "code",
   "execution_count": 18,
   "id": "e875fefc",
   "metadata": {},
   "outputs": [
    {
     "name": "stdout",
     "output_type": "stream",
     "text": [
      "(50, 4)\n",
      "[25.5   0.44  2.44 25.5 ]\n",
      "70\n",
      "0\n",
      "2.44\n"
     ]
    }
   ],
   "source": [
    "passengers = np.array([\n",
    "   [1, 0, 3, 22],\n",
    "   [2, 1, 1, 38],\n",
    "   [3, 1, 3, 26],\n",
    "   [4, 1, 1, 35],\n",
    "   [5, 0, 3, 35],\n",
    "   [6, 0, 3, 18],\n",
    "   [7, 0, 1, 54],\n",
    "   [8, 0, 3, 2],\n",
    "   [9, 1, 3, 27],\n",
    "  [10, 1, 2, 14],\n",
    "  [11, 1, 3, 4],\n",
    "  [12, 1, 1, 58],\n",
    "  [13, 0, 3, 20],\n",
    "  [14, 0, 3, 39],\n",
    "  [15, 0, 3, 14],\n",
    "  [16, 1, 2, 55],\n",
    "  [17, 0, 3, 2],\n",
    "  [18, 1, 2, 12],\n",
    "  [19, 0, 3, 31],\n",
    "  [20, 1, 3, 8],\n",
    "  [21, 0, 2, 35],\n",
    "  [22, 1, 2, 34],\n",
    "  [23, 1, 3, 15],\n",
    "  [24, 1, 1, 28],\n",
    "  [25, 0, 3, 8],\n",
    "  [26, 1, 3, 38],\n",
    "  [27, 0, 3, 2],\n",
    "  [28, 0, 1, 1],\n",
    "  [29, 1, 3, 5],\n",
    "  [30, 0, 3, 18],\n",
    "  [31, 0, 1, 40],\n",
    "  [32, 1, 1, 70],\n",
    "  [33, 1, 3, 33],\n",
    "  [34, 0, 2, 66],\n",
    "  [35, 0, 1, 28],\n",
    "  [36, 0, 1, 42],\n",
    "  [37, 1, 3, 5],\n",
    "  [38, 0, 3, 18],\n",
    "  [39, 0, 3, 18],\n",
    "  [40, 1, 3, 14],\n",
    "  [41, 0, 3, 40],\n",
    "  [42, 0, 2, 27],\n",
    "  [43, 0, 3, 29],\n",
    "  [44, 1, 2, 0],\n",
    "  [45, 1, 3, 19],\n",
    "  [46, 0, 3, 33],\n",
    "  [47, 0, 3, 14],\n",
    "  [48, 1, 3, 22],\n",
    "  [49, 0, 3, 41],\n",
    "  [50, 0, 3, 18]\n",
    "])\n",
    "\n",
    "print(passengers.shape)\n",
    "print(np.average(passengers, axis=0))\n",
    "print(np.max(passengers, axis=0)[3])\n",
    "print(np.min(passengers, axis=0)[3])\n",
    "print(np.average(passengers, axis=0)[2])"
   ]
  }
 ],
 "metadata": {
  "kernelspec": {
   "display_name": "Python 3",
   "language": "python",
   "name": "python3"
  },
  "language_info": {
   "codemirror_mode": {
    "name": "ipython",
    "version": 3
   },
   "file_extension": ".py",
   "mimetype": "text/x-python",
   "name": "python",
   "nbconvert_exporter": "python",
   "pygments_lexer": "ipython3",
   "version": "3.13.5"
  }
 },
 "nbformat": 4,
 "nbformat_minor": 5
}
